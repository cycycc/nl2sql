{
 "cells": [
  {
   "cell_type": "code",
   "execution_count": 25,
   "id": "0596ddd3",
   "metadata": {},
   "outputs": [],
   "source": [
    "import json\n",
    "import datasets"
   ]
  },
  {
   "cell_type": "code",
   "execution_count": 2,
   "id": "9812e72f",
   "metadata": {},
   "outputs": [
    {
     "name": "stderr",
     "output_type": "stream",
     "text": [
      "Using custom data configuration default\n",
      "Reusing dataset wikisql (/Users/alexwang/.cache/huggingface/datasets/wikisql/default/0.1.0/7037bfe6a42b1ca2b6ac3ccacba5253b1825d31379e9cc626fc79a620977252d)\n"
     ]
    },
    {
     "data": {
      "application/vnd.jupyter.widget-view+json": {
       "model_id": "ac6907b253314083bc0e869ada5a9792",
       "version_major": 2,
       "version_minor": 0
      },
      "text/plain": [
       "  0%|          | 0/3 [00:00<?, ?it/s]"
      ]
     },
     "metadata": {},
     "output_type": "display_data"
    }
   ],
   "source": [
    "# load dataset\n",
    "all_data = datasets.load_dataset('wikisql')"
   ]
  },
  {
   "cell_type": "code",
   "execution_count": 17,
   "id": "ac5bca4f",
   "metadata": {},
   "outputs": [
    {
     "data": {
      "text/plain": [
       "{'header': ['State/territory',\n",
       "  'Text/background colour',\n",
       "  'Format',\n",
       "  'Current slogan',\n",
       "  'Current series',\n",
       "  'Notes'],\n",
       " 'page_title': '',\n",
       " 'page_id': '',\n",
       " 'types': ['text', 'text', 'text', 'text', 'text', 'text'],\n",
       " 'id': '1-1000181-1',\n",
       " 'section_title': '',\n",
       " 'caption': '',\n",
       " 'rows': [['Australian Capital Territory',\n",
       "   'blue/white',\n",
       "   'Yaa·nna',\n",
       "   'ACT · CELEBRATION OF A CENTURY 2013',\n",
       "   'YIL·00A',\n",
       "   'Slogan screenprinted on plate'],\n",
       "  ['New South Wales',\n",
       "   'black/yellow',\n",
       "   'aa·nn·aa',\n",
       "   'NEW SOUTH WALES',\n",
       "   'BX·99·HI',\n",
       "   'No slogan on current series'],\n",
       "  ['New South Wales',\n",
       "   'black/white',\n",
       "   'aaa·nna',\n",
       "   'NSW',\n",
       "   'CPX·12A',\n",
       "   'Optional white slimline series'],\n",
       "  ['Northern Territory',\n",
       "   'ochre/white',\n",
       "   'Ca·nn·aa',\n",
       "   'NT · OUTBACK AUSTRALIA',\n",
       "   'CB·06·ZZ',\n",
       "   'New series began in June 2011'],\n",
       "  ['Queensland',\n",
       "   'maroon/white',\n",
       "   'nnn·aaa',\n",
       "   'QUEENSLAND · SUNSHINE STATE',\n",
       "   '999·TLG',\n",
       "   'Slogan embossed on plate'],\n",
       "  ['South Australia',\n",
       "   'black/white',\n",
       "   'Snnn·aaa',\n",
       "   'SOUTH AUSTRALIA',\n",
       "   'S000·AZD',\n",
       "   'No slogan on current series'],\n",
       "  ['Victoria',\n",
       "   'blue/white',\n",
       "   'aaa·nnn',\n",
       "   'VICTORIA - THE PLACE TO BE',\n",
       "   'ZZZ·562',\n",
       "   'Current series will be exhausted this year']],\n",
       " 'name': 'table_1000181_1'}"
      ]
     },
     "execution_count": 17,
     "metadata": {},
     "output_type": "execute_result"
    }
   ],
   "source": [
    "#all_data['train'][0]['table']\n",
    "all_data['train'][0]['table']"
   ]
  },
  {
   "cell_type": "markdown",
   "id": "9accaeaf",
   "metadata": {},
   "source": [
    "## Format Data"
   ]
  },
  {
   "cell_type": "code",
   "execution_count": 13,
   "id": "e0527851",
   "metadata": {},
   "outputs": [],
   "source": [
    "# NB: model must be cased\n",
    "# NB: position of question vs table\n",
    "\n",
    "def format_input(example, input_token=\"<i>\", col_tok=\"<c>\", typ_tok=\"<t>\"):\n",
    "    # input_token: string for separating table from question\n",
    "    question = example['question']\n",
    "    \n",
    "    table = example['table']\n",
    "    table_name = table['name'] if table['name'] else table['id']\n",
    "    cols = table['header']\n",
    "    types = table['types']\n",
    "    linearized_table = f'{table_name} '\n",
    "    for col, typ in zip(cols, types):\n",
    "        linearized_table += f'{col_tok} {col} {typ_tok} {typ} '\n",
    "    \n",
    "    return f\"{linearized_table} {input_token} {question}\"\n",
    "    \n",
    "    \n",
    "def format_output(example):\n",
    "    target = example['sql']['human_readable']\n",
    "    \n",
    "    table = example['table']\n",
    "    table_name = table['name'] if table['name'] else table['id']\n",
    "    target = target.replace('FROM table', f'FROM {table_name}')\n",
    "    return target\n",
    "    \n",
    "    \n",
    "def format_example(example, sep_token=\"<s>\", input_token=\"<i>\",\n",
    "                   col_tok=\"<c>\", typ_tok=\"<t>\"):\n",
    "    example_input = format_input(example, input_token=input_token)\n",
    "    example_output = format_output(example)\n",
    "    return f\"{example_input} {sep_token} {example_output}\"\n",
    "\n",
    "\n",
    "def process_dataset(data, max_examples=-1,\n",
    "                    example_separator=\"--SEPARATOR--\"):\n",
    "    \"\"\"\n",
    "    \"\"\"\n",
    "    n_exs = 0\n",
    "    processed_examples = []\n",
    "    for example in data:\n",
    "        processed_examples.append(format_example(example))\n",
    "        n_exs += 1\n",
    "        if max_examples > 0 and n_exs >= max_examples:\n",
    "            break\n",
    "            \n",
    "    print(f\"\\tProcessed {len(processed_examples)} examples\")\n",
    "    return f\"\\n{example_separator}\\n\".join(processed_examples)"
   ]
  },
  {
   "cell_type": "code",
   "execution_count": 16,
   "id": "1bd95960",
   "metadata": {},
   "outputs": [
    {
     "name": "stdout",
     "output_type": "stream",
     "text": [
      "Processing train\n",
      "\tProcessed 10000 examples\n",
      "Processing validation\n",
      "\tProcessed 8421 examples\n",
      "Processing test\n",
      "\tProcessed 10000 examples\n"
     ]
    }
   ],
   "source": [
    "SPLITS = [\"train\", \"validation\", \"test\"]\n",
    "max_examples=10000\n",
    "\n",
    "for split in SPLITS:\n",
    "    split_data = all_data[split]\n",
    "    print(f\"Processing {split}\")\n",
    "    processed_data = process_dataset(split_data, max_examples=max_examples)\n",
    "    with open(f'data/{split}.nexs{max_examples}.txt', 'w') as out_fh:\n",
    "        out_fh.write(processed_data)"
   ]
  },
  {
   "cell_type": "markdown",
   "id": "fa28c8d3",
   "metadata": {},
   "source": [
    "## Extract Tables"
   ]
  },
  {
   "cell_type": "code",
   "execution_count": 33,
   "id": "69e75ec0",
   "metadata": {},
   "outputs": [
    {
     "name": "stdout",
     "output_type": "stream",
     "text": [
      "Extracting tables from train\n",
      "Extracting tables from validation\n",
      "Extracting tables from test\n",
      "Wrote 25683 tables\n"
     ]
    }
   ],
   "source": [
    "def extract_tables(data):\n",
    "    \"\"\" \n",
    "    \"\"\"\n",
    "    \n",
    "    all_tables = {}\n",
    "    \n",
    "    for split in [\"train\", \"validation\", \"test\"]:\n",
    "        print(f\"Extracting tables from {split}\")\n",
    "        for example in data[split]:\n",
    "            table = example[\"table\"]\n",
    "            table_name = table['name'] if table['name'] else table['id']\n",
    "            \n",
    "            if table_name in all_tables:\n",
    "                assert all_tables[table_name] == table, \"Table name collision\"\n",
    "            else:\n",
    "                all_tables[table_name] = table\n",
    "            \n",
    "    all_tables = list(all_tables.values())\n",
    "    with open(\"data/all_tables.jsonl\", 'w', encoding='utf-8') as out_fh:\n",
    "        for table in all_tables:\n",
    "            out_fh.write(f'{json.dumps(table)}\\n')\n",
    "            \n",
    "    print(f\"Wrote {len(all_tables)} tables\")\n",
    "    \n",
    "extract_tables(all_data)"
   ]
  },
  {
   "cell_type": "code",
   "execution_count": 29,
   "id": "c1cd5e12",
   "metadata": {},
   "outputs": [],
   "source": [
    "# try loading \n",
    "tables = [json.loads(l) for l in open(\"data/all_tables.jsonl\")]"
   ]
  },
  {
   "cell_type": "code",
   "execution_count": 30,
   "id": "79705ce8",
   "metadata": {},
   "outputs": [
    {
     "data": {
      "text/plain": [
       "{'header': ['Player',\n",
       "  'No.',\n",
       "  'Nationality',\n",
       "  'Position',\n",
       "  'Years in Toronto',\n",
       "  'School/Club Team'],\n",
       " 'page_title': 'Toronto Raptors all-time roster',\n",
       " 'page_id': '',\n",
       " 'types': ['text', 'text', 'text', 'text', 'text', 'text'],\n",
       " 'id': '1-10015132-11',\n",
       " 'section_title': 'L',\n",
       " 'caption': 'L',\n",
       " 'rows': [['Antonio Lang',\n",
       "   '21',\n",
       "   'United States',\n",
       "   'Guard-Forward',\n",
       "   '1999-2000',\n",
       "   'Duke'],\n",
       "  ['Voshon Lenard', '2', 'United States', 'Guard', '2002-03', 'Minnesota'],\n",
       "  ['Martin Lewis',\n",
       "   '32, 44',\n",
       "   'United States',\n",
       "   'Guard-Forward',\n",
       "   '1996-97',\n",
       "   'Butler CC (KS)'],\n",
       "  ['Brad Lohaus', '33', 'United States', 'Forward-Center', '1996', 'Iowa'],\n",
       "  ['Art Long',\n",
       "   '42',\n",
       "   'United States',\n",
       "   'Forward-Center',\n",
       "   '2002-03',\n",
       "   'Cincinnati'],\n",
       "  ['John Long', '25', 'United States', 'Guard', '1996-97', 'Detroit'],\n",
       "  ['Kyle Lowry', '3', 'United States', 'Guard', '2012-Present', 'Villanova']],\n",
       " 'name': 'table_10015132_11'}"
      ]
     },
     "execution_count": 30,
     "metadata": {},
     "output_type": "execute_result"
    }
   ],
   "source": [
    "tables[0]"
   ]
  }
 ],
 "metadata": {
  "kernelspec": {
   "display_name": "Python 3 (ipykernel)",
   "language": "python",
   "name": "python3"
  },
  "language_info": {
   "codemirror_mode": {
    "name": "ipython",
    "version": 3
   },
   "file_extension": ".py",
   "mimetype": "text/x-python",
   "name": "python",
   "nbconvert_exporter": "python",
   "pygments_lexer": "ipython3",
   "version": "3.9.12"
  }
 },
 "nbformat": 4,
 "nbformat_minor": 5
}
