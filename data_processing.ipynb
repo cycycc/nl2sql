{
 "cells": [
  {
   "cell_type": "code",
   "execution_count": 1,
   "id": "0596ddd3",
   "metadata": {},
   "outputs": [],
   "source": [
    "import re\n",
    "import json\n",
    "import ipdb\n",
    "import datasets"
   ]
  },
  {
   "cell_type": "code",
   "execution_count": 2,
   "id": "9812e72f",
   "metadata": {},
   "outputs": [
    {
     "name": "stderr",
     "output_type": "stream",
     "text": [
      "Using custom data configuration default\n",
      "Reusing dataset wikisql (/Users/alexwang/.cache/huggingface/datasets/wikisql/default/0.1.0/7037bfe6a42b1ca2b6ac3ccacba5253b1825d31379e9cc626fc79a620977252d)\n"
     ]
    },
    {
     "data": {
      "application/vnd.jupyter.widget-view+json": {
       "model_id": "8b2fb5af64bb4cbfab8f67b6b48de07c",
       "version_major": 2,
       "version_minor": 0
      },
      "text/plain": [
       "  0%|          | 0/3 [00:00<?, ?it/s]"
      ]
     },
     "metadata": {},
     "output_type": "display_data"
    }
   ],
   "source": [
    "# load dataset\n",
    "all_data = datasets.load_dataset('wikisql')"
   ]
  },
  {
   "cell_type": "code",
   "execution_count": 81,
   "id": "a6ad5a51",
   "metadata": {},
   "outputs": [
    {
     "data": {
      "text/plain": [
       "{'human_readable': 'SELECT Text/background colour FROM table WHERE State/territory = Australian Capital Territory',\n",
       " 'sel': 1,\n",
       " 'agg': 0,\n",
       " 'conds': {'column_index': [0],\n",
       "  'operator_index': [0],\n",
       "  'condition': ['Australian Capital Territory']}}"
      ]
     },
     "execution_count": 81,
     "metadata": {},
     "output_type": "execute_result"
    }
   ],
   "source": [
    "all_data['train'][3]['sql']"
   ]
  },
  {
   "cell_type": "code",
   "execution_count": 25,
   "id": "48b0c7f3",
   "metadata": {},
   "outputs": [],
   "source": [
    "to_replace = {\n",
    "    ' ': '-',\n",
    "    '/': '-',\n",
    "    '.': '',\n",
    "    '#': 'Number',\n",
    "}\n",
    "\n",
    "\n",
    "def process_column_name(col):\n",
    "    \n",
    "    for k, v in to_replace.items():\n",
    "        col = col.replace(k, v)\n",
    "    return col\n",
    "    \n",
    "\n",
    "def process_tables(examples):\n",
    "    \"\"\" For each table, format them to be BigQuery ready:\n",
    "        * remove whitespace from table names\n",
    "        * quote strings\n",
    "    \"\"\"\n",
    "    \n",
    "    new_examples = []\n",
    "    for example in examples:\n",
    "        table = example['table']\n",
    "\n",
    "        sql = example['sql']\n",
    "        target = sql['human_readable']\n",
    "        for condition in sql['conds']['condition']:\n",
    "            target = target.replace(condition, f'\\\"{condition}\\\"')\n",
    "        \n",
    "        cols = table['header']\n",
    "        new_cols = []\n",
    "        \n",
    "        for col in cols:\n",
    "            new_col = process_column_name(col)\n",
    "            new_cols.append(new_col)\n",
    "            target = target.replace(col, new_col)\n",
    "            \n",
    "            \n",
    "        example['modified_sql'] = target\n",
    "        table['modified_header'] = new_cols\n",
    "        example['table'] = table\n",
    "        new_examples.append(example)\n",
    "        \n",
    "    return new_examples"
   ]
  },
  {
   "cell_type": "code",
   "execution_count": 26,
   "id": "5b0be082",
   "metadata": {},
   "outputs": [],
   "source": [
    "SPLITS = [\"train\", \"validation\", \"test\"]\n",
    "#SPLITS = [\"validation\"]\n",
    "\n",
    "split2data = {}\n",
    "for split in SPLITS:\n",
    "    split2data[split] = process_tables(all_data[split])"
   ]
  },
  {
   "cell_type": "code",
   "execution_count": 12,
   "id": "ac5bca4f",
   "metadata": {},
   "outputs": [
    {
     "data": {
      "text/plain": [
       "{'phase': 1,\n",
       " 'question': 'What position does the player who played for butler cc (ks) play?',\n",
       " 'table': {'header': ['Player',\n",
       "   'No',\n",
       "   'Nationality',\n",
       "   'Position',\n",
       "   'Years-in-Toronto',\n",
       "   'School-Club-Team'],\n",
       "  'page_title': 'Toronto Raptors all-time roster',\n",
       "  'page_id': '',\n",
       "  'types': ['text', 'text', 'text', 'text', 'text', 'text'],\n",
       "  'id': '1-10015132-11',\n",
       "  'section_title': 'L',\n",
       "  'caption': 'L',\n",
       "  'rows': [['Antonio Lang',\n",
       "    '21',\n",
       "    'United States',\n",
       "    'Guard-Forward',\n",
       "    '1999-2000',\n",
       "    'Duke'],\n",
       "   ['Voshon Lenard', '2', 'United States', 'Guard', '2002-03', 'Minnesota'],\n",
       "   ['Martin Lewis',\n",
       "    '32, 44',\n",
       "    'United States',\n",
       "    'Guard-Forward',\n",
       "    '1996-97',\n",
       "    'Butler CC (KS)'],\n",
       "   ['Brad Lohaus', '33', 'United States', 'Forward-Center', '1996', 'Iowa'],\n",
       "   ['Art Long',\n",
       "    '42',\n",
       "    'United States',\n",
       "    'Forward-Center',\n",
       "    '2002-03',\n",
       "    'Cincinnati'],\n",
       "   ['John Long', '25', 'United States', 'Guard', '1996-97', 'Detroit'],\n",
       "   ['Kyle Lowry', '3', 'United States', 'Guard', '2012-Present', 'Villanova']],\n",
       "  'name': 'table_10015132_11'},\n",
       " 'sql': {'human_readable': 'SELECT Position FROM table WHERE School/Club Team = Butler CC (KS)',\n",
       "  'sel': 3,\n",
       "  'agg': 0,\n",
       "  'conds': {'column_index': [5],\n",
       "   'operator_index': [0],\n",
       "   'condition': ['Butler CC (KS)']}},\n",
       " 'modified_sql': 'SELECT Position FROM table WHERE School-Club-Team = \"Butler CC (KS)\"'}"
      ]
     },
     "execution_count": 12,
     "metadata": {},
     "output_type": "execute_result"
    }
   ],
   "source": [
    "#all_data['train'][0]['table']\n",
    "split2data['validation'][0]"
   ]
  },
  {
   "cell_type": "markdown",
   "id": "92f91e61",
   "metadata": {},
   "source": [
    "## Format Data"
   ]
  },
  {
   "cell_type": "code",
   "execution_count": 37,
   "id": "e0527851",
   "metadata": {},
   "outputs": [],
   "source": [
    "# NB: model must be cased\n",
    "# NB: position of question vs table\n",
    "\n",
    "def format_input(example, use_modified_fields=True,\n",
    "                 input_token=\"<i>\",\n",
    "                 col_tok=\"<c>\", typ_tok=\"<t>\",\n",
    "                 use_prefix=False, prefix=\"Generate SQL for the question:\"):\n",
    "    # input_token: string for separating table from question\n",
    "    question = example['question']\n",
    "    \n",
    "    table = example['table']\n",
    "    table_name = table['name'] if table['name'] else table['id']\n",
    "    cols = table['modified_header'] if use_modified_fields else table['header']\n",
    "    types = table['types']\n",
    "    \n",
    "    linearized_table = f'{table_name}'\n",
    "    for col, typ in zip(cols, types):\n",
    "        linearized_table += f' {col_tok} {col} {typ_tok} {typ}'\n",
    "    \n",
    "    if use_prefix:\n",
    "        input_str = f\"{prefix} {linearized_table} {input_token} {question}\"\n",
    "    else:\n",
    "        input_str = f\"{linearized_table} {input_token} {question}\"\n",
    "    \n",
    "    return f\"{linearized_table} {input_token} {question}\".strip()\n",
    "    \n",
    "    \n",
    "def format_output(example, use_modified_fields=True):\n",
    "    target = example['modified_sql'] if use_modified_fields else example['sql']['human_readable']\n",
    "    \n",
    "    table = example['table']\n",
    "    table_name = table['name'] if table['name'] else table['id']\n",
    "    target = target.replace('FROM table', f'FROM {table_name}')\n",
    "    return target\n",
    "    \n",
    "    \n",
    "def format_example(example, use_modified_fields=True,\n",
    "                   sep_token=\"<s>\", end_tok=\"</s>\",\n",
    "                   input_token=\"<i>\",\n",
    "                   col_tok=\"<c>\", typ_tok=\"<t>\"):\n",
    "    example_input = format_input(example, input_token=input_token, use_modified_fields=use_modified_fields)\n",
    "    example_output = format_output(example, use_modified_fields=use_modified_fields)\n",
    "    return f\"{example_input} {sep_token} {example_output} {end_tok}\"\n",
    "\n",
    "\n",
    "def process_dataset(data, max_examples=-1,\n",
    "                    example_separator=\"--SEPARATOR--\",\n",
    "                    use_modified_fields=True):\n",
    "    \"\"\"\n",
    "    \"\"\"\n",
    "    n_exs = 0\n",
    "    processed_examples = []\n",
    "    for example in data:\n",
    "        processed_examples.append(format_example(example, use_modified_fields=use_modified_fields))\n",
    "        n_exs += 1\n",
    "        if max_examples > 0 and n_exs >= max_examples:\n",
    "            break\n",
    "            \n",
    "    print(f\"\\tProcessed {len(processed_examples)} examples\")\n",
    "    return f\"\\n{example_separator}\\n\".join(processed_examples)"
   ]
  },
  {
   "cell_type": "code",
   "execution_count": 40,
   "id": "5d78d905",
   "metadata": {},
   "outputs": [
    {
     "name": "stdout",
     "output_type": "stream",
     "text": [
      "Processing train\n",
      "\tProcessed 1000 examples\n",
      "\tWrote to data/wikisql/train.nexs1000.txt\n",
      "Processing validation\n",
      "\tProcessed 1000 examples\n",
      "\tWrote to data/wikisql/validation.nexs1000.txt\n",
      "Processing test\n",
      "\tProcessed 1000 examples\n",
      "\tWrote to data/wikisql/test.nexs1000.txt\n"
     ]
    }
   ],
   "source": [
    "SPLITS = [\"train\", \"validation\", \"test\"]\n",
    "#SPLITS = [\"validation\"]\n",
    "max_examples = 1000\n",
    "use_prefix = False\n",
    "use_modified_fields = False\n",
    "\n",
    "for split in SPLITS:\n",
    "    #split_data = all_data[split]\n",
    "    split_data = split2data[split]\n",
    "    print(f\"Processing {split}\")\n",
    "    processed_data = process_dataset(split_data, max_examples=max_examples,\n",
    "                                     use_modified_fields=use_modified_fields)\n",
    "    \n",
    "    split_file_name = f'{split}'\n",
    "    if max_examples > 0:\n",
    "        split_file_name += f'.nexs{max_examples}'\n",
    "    if use_prefix:\n",
    "        split_file_name += '.prefix'\n",
    "    out_dir = 'bigquery' if use_modified_fields else 'wikisql'\n",
    "    split_file_name = f'data/{out_dir}/{split_file_name}.txt'\n",
    "    \n",
    "    with open(split_file_name, 'w') as out_fh:\n",
    "        out_fh.write(processed_data)\n",
    "    print(f'\\tWrote to {split_file_name}')"
   ]
  },
  {
   "cell_type": "markdown",
   "id": "14749f6b",
   "metadata": {},
   "source": [
    "## Extract Tables"
   ]
  },
  {
   "cell_type": "code",
   "execution_count": 33,
   "id": "27dc6d56",
   "metadata": {},
   "outputs": [
    {
     "name": "stdout",
     "output_type": "stream",
     "text": [
      "Extracting tables from train\n",
      "Extracting tables from validation\n",
      "Extracting tables from test\n",
      "Wrote 25683 tables\n"
     ]
    }
   ],
   "source": [
    "def extract_tables(data):\n",
    "    \"\"\" \n",
    "    \"\"\"\n",
    "    \n",
    "    all_tables = {}\n",
    "    \n",
    "    for split in [\"train\", \"validation\", \"test\"]:\n",
    "        print(f\"Extracting tables from {split}\")\n",
    "        for example in data[split]:\n",
    "            table = example[\"table\"]\n",
    "            table_name = table['name'] if table['name'] else table['id']\n",
    "            \n",
    "            if table_name in all_tables:\n",
    "                assert all_tables[table_name] == table, \"Table name collision\"\n",
    "            else:\n",
    "                all_tables[table_name] = table\n",
    "            \n",
    "    all_tables = list(all_tables.values())\n",
    "    with open(\"data/all_tables.jsonl\", 'w', encoding='utf-8') as out_fh:\n",
    "        for table in all_tables:\n",
    "            out_fh.write(f'{json.dumps(table)}\\n')\n",
    "            \n",
    "    print(f\"Wrote {len(all_tables)} tables\")\n",
    "    \n",
    "#extract_tables(all_data)\n",
    "extract_tables(split2data)"
   ]
  },
  {
   "cell_type": "code",
   "execution_count": 29,
   "id": "f8993e41",
   "metadata": {},
   "outputs": [],
   "source": [
    "# try loading \n",
    "tables = [json.loads(l) for l in open(\"data/all_tables.jsonl\")]"
   ]
  },
  {
   "cell_type": "code",
   "execution_count": 30,
   "id": "659def34",
   "metadata": {},
   "outputs": [
    {
     "data": {
      "text/plain": [
       "{'header': ['Player',\n",
       "  'No.',\n",
       "  'Nationality',\n",
       "  'Position',\n",
       "  'Years in Toronto',\n",
       "  'School/Club Team'],\n",
       " 'page_title': 'Toronto Raptors all-time roster',\n",
       " 'page_id': '',\n",
       " 'types': ['text', 'text', 'text', 'text', 'text', 'text'],\n",
       " 'id': '1-10015132-11',\n",
       " 'section_title': 'L',\n",
       " 'caption': 'L',\n",
       " 'rows': [['Antonio Lang',\n",
       "   '21',\n",
       "   'United States',\n",
       "   'Guard-Forward',\n",
       "   '1999-2000',\n",
       "   'Duke'],\n",
       "  ['Voshon Lenard', '2', 'United States', 'Guard', '2002-03', 'Minnesota'],\n",
       "  ['Martin Lewis',\n",
       "   '32, 44',\n",
       "   'United States',\n",
       "   'Guard-Forward',\n",
       "   '1996-97',\n",
       "   'Butler CC (KS)'],\n",
       "  ['Brad Lohaus', '33', 'United States', 'Forward-Center', '1996', 'Iowa'],\n",
       "  ['Art Long',\n",
       "   '42',\n",
       "   'United States',\n",
       "   'Forward-Center',\n",
       "   '2002-03',\n",
       "   'Cincinnati'],\n",
       "  ['John Long', '25', 'United States', 'Guard', '1996-97', 'Detroit'],\n",
       "  ['Kyle Lowry', '3', 'United States', 'Guard', '2012-Present', 'Villanova']],\n",
       " 'name': 'table_10015132_11'}"
      ]
     },
     "execution_count": 30,
     "metadata": {},
     "output_type": "execute_result"
    }
   ],
   "source": [
    "tables[0]"
   ]
  }
 ],
 "metadata": {
  "kernelspec": {
   "display_name": "Python 3 (ipykernel)",
   "language": "python",
   "name": "python3"
  },
  "language_info": {
   "codemirror_mode": {
    "name": "ipython",
    "version": 3
   },
   "file_extension": ".py",
   "mimetype": "text/x-python",
   "name": "python",
   "nbconvert_exporter": "python",
   "pygments_lexer": "ipython3",
   "version": "3.9.12"
  }
 },
 "nbformat": 4,
 "nbformat_minor": 5
}
