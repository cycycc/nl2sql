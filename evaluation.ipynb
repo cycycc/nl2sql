{
 "cells": [
  {
   "cell_type": "code",
   "execution_count": 15,
   "id": "5c6d9b68",
   "metadata": {},
   "outputs": [],
   "source": [
    "from collections import defaultdict\n",
    "import numpy as np\n",
    "\n",
    "import nltk\n",
    "from nltk.tokenize import word_tokenize"
   ]
  },
  {
   "cell_type": "code",
   "execution_count": 3,
   "id": "490b04bc",
   "metadata": {},
   "outputs": [],
   "source": [
    "ngram_size = 4\n",
    "test_sentence = \"This is a test sentence.\"\n",
    "ngrams = nltk.ngrams(test_sentence.split(), ngram_size)"
   ]
  },
  {
   "cell_type": "code",
   "execution_count": 26,
   "id": "dccc38fc",
   "metadata": {},
   "outputs": [],
   "source": [
    "def tokenize(sentence, method=\"nltk\", cased=True):\n",
    "    \n",
    "    sentence = sentence if cased else sentence.lower()\n",
    "    \n",
    "    if method == \"simple\":\n",
    "        tokens = sentence.split()\n",
    "    elif method == \"nltk\":\n",
    "        tokens = nltk.word_tokenize(sentence)\n",
    "    return tokens\n",
    "\n",
    "\n",
    "def compute_sentence_ngram_overlap(sent1, sent2, n):\n",
    "    \"\"\" Returns precision and recall of n-grams wrt sent1 \"\"\"\n",
    "    ngrams1 = list(nltk.ngrams(sent1, n)) # zip by default\n",
    "    ngrams2 = list(nltk.ngrams(sent2, n))\n",
    "    \n",
    "    precision1 = 0.\n",
    "    for ngram in ngrams1:\n",
    "        precision1 += int(ngram in ngrams2)\n",
    "    precision1 /= len(ngrams1)\n",
    "        \n",
    "    recall1 = 0.\n",
    "    for ngram in ngrams2:\n",
    "        recall1 += int(ngram in ngrams1)\n",
    "    recall1 /= len(ngrams2)\n",
    "    return {\n",
    "            'precision': precision1,\n",
    "            'recall': recall1,\n",
    "           }\n",
    "    \n",
    "    \n",
    "def compute_corpus_ngram_overlap(corp1, corp2, n=1, cased=True):\n",
    "    \n",
    "    assert len(corp1) == len(corp2), \"Different number of sentences in corpora\"\n",
    "    corp1 = [tokenize(s, cased=cased) for s in corp1]\n",
    "    corp2 = [tokenize(s, cased=cased) for s in corp2]\n",
    "    \n",
    "    overlaps = defaultdict(list)\n",
    "    for sent1, sent2 in zip(corp1, corp2):\n",
    "        overlap = compute_sentence_ngram_overlap(sent1, sent2, n)\n",
    "        for k, v in overlap.items():\n",
    "            overlaps[k].append(v)\n",
    "            \n",
    "    overlaps = {k: np.array(v) for k, v in overlaps.items()}\n",
    "        \n",
    "    return overlaps"
   ]
  },
  {
   "cell_type": "code",
   "execution_count": 31,
   "id": "5f16fd14",
   "metadata": {},
   "outputs": [
    {
     "name": "stdout",
     "output_type": "stream",
     "text": [
      "precision: mean 0.775, std 0.025\n",
      "\tmax 0.800, min 0.750\n",
      "recall: mean 0.700, std 0.100\n",
      "\tmax 0.800, min 0.600\n"
     ]
    }
   ],
   "source": [
    "corp1 = [\"this is a sentence.\", \"lol we are hacking\"]\n",
    "corp2 = [\"This is a sentence.\", \"yoooo are we hacking?\"]\n",
    "n = 1\n",
    "cased = True\n",
    "\n",
    "results = compute_corpus_ngram_overlap(corp1, corp2, n=n, cased=cased)\n",
    "for k, v in results.items():\n",
    "    print(f'{k}: mean {np.mean(v):.3f}, std {np.std(v):.3f}')\n",
    "    print(f'\\tmax {np.max(v):.3f}, min {np.min(v):.3f}')"
   ]
  }
 ],
 "metadata": {
  "kernelspec": {
   "display_name": "Python 3 (ipykernel)",
   "language": "python",
   "name": "python3"
  },
  "language_info": {
   "codemirror_mode": {
    "name": "ipython",
    "version": 3
   },
   "file_extension": ".py",
   "mimetype": "text/x-python",
   "name": "python",
   "nbconvert_exporter": "python",
   "pygments_lexer": "ipython3",
   "version": "3.9.12"
  }
 },
 "nbformat": 4,
 "nbformat_minor": 5
}
